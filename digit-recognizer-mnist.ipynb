{
 "cells": [
  {
   "cell_type": "code",
   "execution_count": 1,
   "metadata": {
    "_cell_guid": "b1076dfc-b9ad-4769-8c92-a6c4dae69d19",
    "_uuid": "8f2839f25d086af736a60e9eeb907d3b93b6e0e5",
    "execution": {
     "iopub.execute_input": "2020-10-02T15:43:54.444725Z",
     "iopub.status.busy": "2020-10-02T15:43:54.443599Z",
     "iopub.status.idle": "2020-10-02T15:43:54.449793Z",
     "shell.execute_reply": "2020-10-02T15:43:54.450482Z"
    },
    "papermill": {
     "duration": 0.025067,
     "end_time": "2020-10-02T15:43:54.450668",
     "exception": false,
     "start_time": "2020-10-02T15:43:54.425601",
     "status": "completed"
    },
    "tags": []
   },
   "outputs": [
    {
     "name": "stdout",
     "output_type": "stream",
     "text": [
      "/kaggle/input/digit-recognizer/sample_submission.csv\n",
      "/kaggle/input/digit-recognizer/test.csv\n",
      "/kaggle/input/digit-recognizer/train.csv\n"
     ]
    }
   ],
   "source": [
    "# This Python 3 environment comes with many helpful analytics libraries installed\n",
    "# It is defined by the kaggle/python Docker image: https://github.com/kaggle/docker-python\n",
    "# For example, here's several helpful packages to load\n",
    "\n",
    "import numpy as np # linear algebra\n",
    "import pandas as pd # data processing, CSV file I/O (e.g. pd.read_csv)\n",
    "\n",
    "# Input data files are available in the read-only \"../input/\" directory\n",
    "# For example, running this (by clicking run or pressing Shift+Enter) will list all files under the input directory\n",
    "\n",
    "import os\n",
    "for dirname, _, filenames in os.walk('/kaggle/input'):\n",
    "    for filename in filenames:\n",
    "        print(os.path.join(dirname, filename))\n",
    "\n",
    "# You can write up to 5GB to the current directory (/kaggle/working/) that gets preserved as output when you create a version using \"Save & Run All\" \n",
    "# You can also write temporary files to /kaggle/temp/, but they won't be saved outside of the current session"
   ]
  },
  {
   "cell_type": "code",
   "execution_count": 2,
   "metadata": {
    "_cell_guid": "79c7e3d0-c299-4dcb-8224-4455121ee9b0",
    "_uuid": "d629ff2d2480ee46fbb7e2d37f6b5fab8052498a",
    "execution": {
     "iopub.execute_input": "2020-10-02T15:43:54.479749Z",
     "iopub.status.busy": "2020-10-02T15:43:54.478916Z",
     "iopub.status.idle": "2020-10-02T15:44:00.300119Z",
     "shell.execute_reply": "2020-10-02T15:44:00.298894Z"
    },
    "papermill": {
     "duration": 5.837398,
     "end_time": "2020-10-02T15:44:00.300271",
     "exception": false,
     "start_time": "2020-10-02T15:43:54.462873",
     "status": "completed"
    },
    "tags": []
   },
   "outputs": [],
   "source": [
    "import keras\n",
    "from keras.models import Sequential\n",
    "from keras.optimizers import Adam\n",
    "from keras.layers import Dense, Conv2D, Flatten, Dropout, LeakyReLU\n",
    "from keras.utils.vis_utils import plot_model"
   ]
  },
  {
   "cell_type": "code",
   "execution_count": 3,
   "metadata": {
    "execution": {
     "iopub.execute_input": "2020-10-02T15:44:00.330709Z",
     "iopub.status.busy": "2020-10-02T15:44:00.330044Z",
     "iopub.status.idle": "2020-10-02T15:44:05.576528Z",
     "shell.execute_reply": "2020-10-02T15:44:05.575963Z"
    },
    "papermill": {
     "duration": 5.265405,
     "end_time": "2020-10-02T15:44:05.576651",
     "exception": false,
     "start_time": "2020-10-02T15:44:00.311246",
     "status": "completed"
    },
    "tags": []
   },
   "outputs": [
    {
     "data": {
      "text/html": [
       "<div>\n",
       "<style scoped>\n",
       "    .dataframe tbody tr th:only-of-type {\n",
       "        vertical-align: middle;\n",
       "    }\n",
       "\n",
       "    .dataframe tbody tr th {\n",
       "        vertical-align: top;\n",
       "    }\n",
       "\n",
       "    .dataframe thead th {\n",
       "        text-align: right;\n",
       "    }\n",
       "</style>\n",
       "<table border=\"1\" class=\"dataframe\">\n",
       "  <thead>\n",
       "    <tr style=\"text-align: right;\">\n",
       "      <th></th>\n",
       "      <th>label</th>\n",
       "      <th>pixel0</th>\n",
       "      <th>pixel1</th>\n",
       "      <th>pixel2</th>\n",
       "      <th>pixel3</th>\n",
       "      <th>pixel4</th>\n",
       "      <th>pixel5</th>\n",
       "      <th>pixel6</th>\n",
       "      <th>pixel7</th>\n",
       "      <th>pixel8</th>\n",
       "      <th>...</th>\n",
       "      <th>pixel774</th>\n",
       "      <th>pixel775</th>\n",
       "      <th>pixel776</th>\n",
       "      <th>pixel777</th>\n",
       "      <th>pixel778</th>\n",
       "      <th>pixel779</th>\n",
       "      <th>pixel780</th>\n",
       "      <th>pixel781</th>\n",
       "      <th>pixel782</th>\n",
       "      <th>pixel783</th>\n",
       "    </tr>\n",
       "  </thead>\n",
       "  <tbody>\n",
       "    <tr>\n",
       "      <th>0</th>\n",
       "      <td>1</td>\n",
       "      <td>0</td>\n",
       "      <td>0</td>\n",
       "      <td>0</td>\n",
       "      <td>0</td>\n",
       "      <td>0</td>\n",
       "      <td>0</td>\n",
       "      <td>0</td>\n",
       "      <td>0</td>\n",
       "      <td>0</td>\n",
       "      <td>...</td>\n",
       "      <td>0</td>\n",
       "      <td>0</td>\n",
       "      <td>0</td>\n",
       "      <td>0</td>\n",
       "      <td>0</td>\n",
       "      <td>0</td>\n",
       "      <td>0</td>\n",
       "      <td>0</td>\n",
       "      <td>0</td>\n",
       "      <td>0</td>\n",
       "    </tr>\n",
       "    <tr>\n",
       "      <th>1</th>\n",
       "      <td>0</td>\n",
       "      <td>0</td>\n",
       "      <td>0</td>\n",
       "      <td>0</td>\n",
       "      <td>0</td>\n",
       "      <td>0</td>\n",
       "      <td>0</td>\n",
       "      <td>0</td>\n",
       "      <td>0</td>\n",
       "      <td>0</td>\n",
       "      <td>...</td>\n",
       "      <td>0</td>\n",
       "      <td>0</td>\n",
       "      <td>0</td>\n",
       "      <td>0</td>\n",
       "      <td>0</td>\n",
       "      <td>0</td>\n",
       "      <td>0</td>\n",
       "      <td>0</td>\n",
       "      <td>0</td>\n",
       "      <td>0</td>\n",
       "    </tr>\n",
       "  </tbody>\n",
       "</table>\n",
       "<p>2 rows × 785 columns</p>\n",
       "</div>"
      ],
      "text/plain": [
       "   label  pixel0  pixel1  pixel2  pixel3  pixel4  pixel5  pixel6  pixel7  \\\n",
       "0      1       0       0       0       0       0       0       0       0   \n",
       "1      0       0       0       0       0       0       0       0       0   \n",
       "\n",
       "   pixel8  ...  pixel774  pixel775  pixel776  pixel777  pixel778  pixel779  \\\n",
       "0       0  ...         0         0         0         0         0         0   \n",
       "1       0  ...         0         0         0         0         0         0   \n",
       "\n",
       "   pixel780  pixel781  pixel782  pixel783  \n",
       "0         0         0         0         0  \n",
       "1         0         0         0         0  \n",
       "\n",
       "[2 rows x 785 columns]"
      ]
     },
     "execution_count": 3,
     "metadata": {},
     "output_type": "execute_result"
    }
   ],
   "source": [
    "train = pd.read_csv(\"/kaggle/input/digit-recognizer/train.csv\")\n",
    "test = pd.read_csv(\"/kaggle/input/digit-recognizer/test.csv\")\n",
    "train.head(2)"
   ]
  },
  {
   "cell_type": "code",
   "execution_count": 4,
   "metadata": {
    "execution": {
     "iopub.execute_input": "2020-10-02T15:44:05.610176Z",
     "iopub.status.busy": "2020-10-02T15:44:05.608306Z",
     "iopub.status.idle": "2020-10-02T15:44:05.611029Z",
     "shell.execute_reply": "2020-10-02T15:44:05.611589Z"
    },
    "papermill": {
     "duration": 0.023308,
     "end_time": "2020-10-02T15:44:05.611709",
     "exception": false,
     "start_time": "2020-10-02T15:44:05.588401",
     "status": "completed"
    },
    "tags": []
   },
   "outputs": [],
   "source": [
    "def data_preparation(raw_data, labels=False, img_height=28, img_width=28, num_classes=10):\n",
    "    \n",
    "    data_X = raw_data.loc[:,\"pixel0\":].to_numpy()\n",
    "    X = np.reshape(data_X, (len(raw_data.index), img_height, img_width, 1))\n",
    "    X = X.astype('float32')\n",
    "    X = X / 255.0\n",
    "    \n",
    "    y = None\n",
    "    if labels:\n",
    "        y = keras.utils.to_categorical(train[\"label\"], num_classes)\n",
    "    \n",
    "    return X, y"
   ]
  },
  {
   "cell_type": "code",
   "execution_count": 5,
   "metadata": {
    "execution": {
     "iopub.execute_input": "2020-10-02T15:44:05.649839Z",
     "iopub.status.busy": "2020-10-02T15:44:05.648706Z",
     "iopub.status.idle": "2020-10-02T15:44:06.751016Z",
     "shell.execute_reply": "2020-10-02T15:44:06.751625Z"
    },
    "papermill": {
     "duration": 1.127899,
     "end_time": "2020-10-02T15:44:06.751800",
     "exception": false,
     "start_time": "2020-10-02T15:44:05.623901",
     "status": "completed"
    },
    "tags": []
   },
   "outputs": [
    {
     "data": {
      "image/png": "[encoded data removed]",
      "text/plain": [
       "<Figure size 432x288 with 25 Axes>"
      ]
     },
     "metadata": {
      "needs_background": "light"
     },
     "output_type": "display_data"
    }
   ],
   "source": [
    "import matplotlib.pyplot as plt\n",
    "%matplotlib inline\n",
    "\n",
    "X, _ = data_preparation(train, labels=False)\n",
    "\n",
    "for i in range(25):\n",
    "    plt.subplot(5, 5, 1 + i)\n",
    "    plt.axis('off')\n",
    "    plt.imshow(np.squeeze(X[i], axis=-1) * 255.0, cmap='gray_r')\n",
    "plt.show()"
   ]
  },
  {
   "cell_type": "code",
   "execution_count": 6,
   "metadata": {
    "execution": {
     "iopub.execute_input": "2020-10-02T15:44:06.794936Z",
     "iopub.status.busy": "2020-10-02T15:44:06.794110Z",
     "iopub.status.idle": "2020-10-02T15:44:10.610030Z",
     "shell.execute_reply": "2020-10-02T15:44:10.610923Z"
    },
    "papermill": {
     "duration": 3.845076,
     "end_time": "2020-10-02T15:44:10.611096",
     "exception": false,
     "start_time": "2020-10-02T15:44:06.766020",
     "status": "completed"
    },
    "tags": []
   },
   "outputs": [
    {
     "name": "stdout",
     "output_type": "stream",
     "text": [
      "Model: \"sequential\"\n",
      "_________________________________________________________________\n",
      "Layer (type)                 Output Shape              Param #   \n",
      "=================================================================\n",
      "conv2d (Conv2D)              (None, 14, 14, 128)       3328      \n",
      "_________________________________________________________________\n",
      "leaky_re_lu (LeakyReLU)      (None, 14, 14, 128)       0         \n",
      "_________________________________________________________________\n",
      "dropout (Dropout)            (None, 14, 14, 128)       0         \n",
      "_________________________________________________________________\n",
      "conv2d_1 (Conv2D)            (None, 7, 7, 128)         409728    \n",
      "_________________________________________________________________\n",
      "leaky_re_lu_1 (LeakyReLU)    (None, 7, 7, 128)         0         \n",
      "_________________________________________________________________\n",
      "dropout_1 (Dropout)          (None, 7, 7, 128)         0         \n",
      "_________________________________________________________________\n",
      "flatten (Flatten)            (None, 6272)              0         \n",
      "_________________________________________________________________\n",
      "dense (Dense)                (None, 10)                62730     \n",
      "=================================================================\n",
      "Total params: 475,786\n",
      "Trainable params: 475,786\n",
      "Non-trainable params: 0\n",
      "_________________________________________________________________\n"
     ]
    }
   ],
   "source": [
    "def simple_classificator(img_height=28, img_width=28, num_classes=10):\n",
    "    model = Sequential()\n",
    "    model.add(Conv2D(128, (5,5), strides=(2,2), padding='same', input_shape=(img_height,img_width,1)))\n",
    "    model.add(LeakyReLU(alpha=0.2))\n",
    "    model.add(Dropout(0.5))\n",
    "    model.add(Conv2D(128, (5,5), strides=(2,2), padding='same'))\n",
    "    model.add(LeakyReLU(alpha=0.2))\n",
    "    model.add(Dropout(0.5))\n",
    "    model.add(Flatten())\n",
    "    model.add(Dense(num_classes, activation='softmax'))\n",
    "    opt = Adam(lr=0.0002, beta_1=0.5)\n",
    "    model.compile(loss='categorical_crossentropy', optimizer=opt, metrics=['accuracy'])\n",
    "    return model\n",
    "\n",
    "model = simple_classificator()\n",
    "plot_model(model, to_file='classificator_plot.png', show_shapes=True, show_layer_names=True)\n",
    "model.summary()"
   ]
  },
  {
   "cell_type": "code",
   "execution_count": 7,
   "metadata": {
    "execution": {
     "iopub.execute_input": "2020-10-02T15:44:10.647164Z",
     "iopub.status.busy": "2020-10-02T15:44:10.646445Z",
     "iopub.status.idle": "2020-10-02T15:44:10.651261Z",
     "shell.execute_reply": "2020-10-02T15:44:10.650377Z"
    },
    "papermill": {
     "duration": 0.02534,
     "end_time": "2020-10-02T15:44:10.651387",
     "exception": false,
     "start_time": "2020-10-02T15:44:10.626047",
     "status": "completed"
    },
    "tags": []
   },
   "outputs": [],
   "source": [
    "def generate_data_samples(raw_data, n_samples):\n",
    "    X, y = data_preparation(raw_data, labels=True)\n",
    "    ix = np.random.randint(0, X.shape[0], n_samples)\n",
    "    sample_X = X[ix]\n",
    "    sample_y = y[ix]\n",
    "    return sample_X, sample_y"
   ]
  },
  {
   "cell_type": "code",
   "execution_count": 8,
   "metadata": {
    "execution": {
     "iopub.execute_input": "2020-10-02T15:44:10.688114Z",
     "iopub.status.busy": "2020-10-02T15:44:10.686094Z",
     "iopub.status.idle": "2020-10-02T15:44:10.688933Z",
     "shell.execute_reply": "2020-10-02T15:44:10.689487Z"
    },
    "papermill": {
     "duration": 0.022908,
     "end_time": "2020-10-02T15:44:10.689650",
     "exception": false,
     "start_time": "2020-10-02T15:44:10.666742",
     "status": "completed"
    },
    "tags": []
   },
   "outputs": [],
   "source": [
    "def model_performance(epoch, model, raw_data, n_samples=100):\n",
    "    X, y = generate_data_samples(raw_data, n_samples)\n",
    "    _, acc = model.evaluate(X, y, verbose=0)\n",
    "    print(f'>Accuracy: {format(acc*100, \".3f\")}')"
   ]
  },
  {
   "cell_type": "code",
   "execution_count": 9,
   "metadata": {
    "execution": {
     "iopub.execute_input": "2020-10-02T15:44:10.729057Z",
     "iopub.status.busy": "2020-10-02T15:44:10.728071Z",
     "iopub.status.idle": "2020-10-02T15:44:10.731158Z",
     "shell.execute_reply": "2020-10-02T15:44:10.731658Z"
    },
    "papermill": {
     "duration": 0.027925,
     "end_time": "2020-10-02T15:44:10.731843",
     "exception": false,
     "start_time": "2020-10-02T15:44:10.703918",
     "status": "completed"
    },
    "tags": []
   },
   "outputs": [],
   "source": [
    "import time\n",
    "def train_model(model, raw_data, n_epochs=100, n_batch=250):\n",
    "    bat_per_epo = int(raw_data.shape[0] / n_batch)\n",
    "    half_batch = int(n_batch / 2)\n",
    "    for i in range(n_epochs):\n",
    "        start = time.time()\n",
    "        for j in range(bat_per_epo):\n",
    "            X, y = generate_data_samples(raw_data, half_batch)\n",
    "            loss, _ = model.train_on_batch(X, y)\n",
    "            if (j + 1) % 168 == 0:\n",
    "                print(f'>Epoch {i+1}, batch {j+1} / {bat_per_epo}, loss: {format(loss, \".3f\")}, {format(time.time() - start, \".3f\")} sec.')\n",
    "        if (i+1) % 10 == 0:\n",
    "            model_performance(i, model, raw_data)"
   ]
  },
  {
   "cell_type": "code",
   "execution_count": 10,
   "metadata": {
    "execution": {
     "iopub.execute_input": "2020-10-02T15:44:10.767144Z",
     "iopub.status.busy": "2020-10-02T15:44:10.766003Z",
     "iopub.status.idle": "2020-10-02T16:17:56.302522Z",
     "shell.execute_reply": "2020-10-02T16:17:56.303100Z"
    },
    "papermill": {
     "duration": 2025.556857,
     "end_time": "2020-10-02T16:17:56.303266",
     "exception": false,
     "start_time": "2020-10-02T15:44:10.746409",
     "status": "completed"
    },
    "tags": []
   },
   "outputs": [
    {
     "name": "stdout",
     "output_type": "stream",
     "text": [
      ">Epoch 1, batch 168 / 168, loss: 0.398, 24.398 sec.\n",
      ">Epoch 2, batch 168 / 168, loss: 0.292, 20.494 sec.\n",
      ">Epoch 3, batch 168 / 168, loss: 0.325, 19.850 sec.\n",
      ">Epoch 4, batch 168 / 168, loss: 0.288, 20.117 sec.\n",
      ">Epoch 5, batch 168 / 168, loss: 0.161, 20.302 sec.\n",
      ">Epoch 6, batch 168 / 168, loss: 0.087, 20.090 sec.\n",
      ">Epoch 7, batch 168 / 168, loss: 0.232, 19.957 sec.\n",
      ">Epoch 8, batch 168 / 168, loss: 0.088, 20.609 sec.\n",
      ">Epoch 9, batch 168 / 168, loss: 0.129, 20.014 sec.\n",
      ">Epoch 10, batch 168 / 168, loss: 0.101, 19.743 sec.\n",
      ">Accuracy: 99.000\n",
      ">Epoch 11, batch 168 / 168, loss: 0.027, 20.770 sec.\n",
      ">Epoch 12, batch 168 / 168, loss: 0.076, 19.972 sec.\n",
      ">Epoch 13, batch 168 / 168, loss: 0.071, 19.860 sec.\n",
      ">Epoch 14, batch 168 / 168, loss: 0.047, 20.682 sec.\n",
      ">Epoch 15, batch 168 / 168, loss: 0.097, 19.987 sec.\n",
      ">Epoch 16, batch 168 / 168, loss: 0.044, 19.641 sec.\n",
      ">Epoch 17, batch 168 / 168, loss: 0.148, 20.662 sec.\n",
      ">Epoch 18, batch 168 / 168, loss: 0.067, 20.236 sec.\n",
      ">Epoch 19, batch 168 / 168, loss: 0.026, 19.960 sec.\n",
      ">Epoch 20, batch 168 / 168, loss: 0.030, 20.971 sec.\n",
      ">Accuracy: 98.000\n",
      ">Epoch 21, batch 168 / 168, loss: 0.059, 19.967 sec.\n",
      ">Epoch 22, batch 168 / 168, loss: 0.299, 19.642 sec.\n",
      ">Epoch 23, batch 168 / 168, loss: 0.044, 21.188 sec.\n",
      ">Epoch 24, batch 168 / 168, loss: 0.080, 20.116 sec.\n",
      ">Epoch 25, batch 168 / 168, loss: 0.092, 19.873 sec.\n",
      ">Epoch 26, batch 168 / 168, loss: 0.097, 20.890 sec.\n",
      ">Epoch 27, batch 168 / 168, loss: 0.034, 19.974 sec.\n",
      ">Epoch 28, batch 168 / 168, loss: 0.041, 19.837 sec.\n",
      ">Epoch 29, batch 168 / 168, loss: 0.031, 20.788 sec.\n",
      ">Epoch 30, batch 168 / 168, loss: 0.064, 19.944 sec.\n",
      ">Accuracy: 98.000\n",
      ">Epoch 31, batch 168 / 168, loss: 0.049, 20.150 sec.\n",
      ">Epoch 32, batch 168 / 168, loss: 0.034, 20.784 sec.\n",
      ">Epoch 33, batch 168 / 168, loss: 0.073, 19.871 sec.\n",
      ">Epoch 34, batch 168 / 168, loss: 0.166, 20.040 sec.\n",
      ">Epoch 35, batch 168 / 168, loss: 0.052, 20.712 sec.\n",
      ">Epoch 36, batch 168 / 168, loss: 0.044, 19.990 sec.\n",
      ">Epoch 37, batch 168 / 168, loss: 0.033, 20.048 sec.\n",
      ">Epoch 38, batch 168 / 168, loss: 0.071, 20.653 sec.\n",
      ">Epoch 39, batch 168 / 168, loss: 0.050, 20.028 sec.\n",
      ">Epoch 40, batch 168 / 168, loss: 0.054, 19.938 sec.\n",
      ">Accuracy: 100.000\n",
      ">Epoch 41, batch 168 / 168, loss: 0.046, 20.626 sec.\n",
      ">Epoch 42, batch 168 / 168, loss: 0.007, 19.819 sec.\n",
      ">Epoch 43, batch 168 / 168, loss: 0.040, 20.197 sec.\n",
      ">Epoch 44, batch 168 / 168, loss: 0.016, 20.747 sec.\n",
      ">Epoch 45, batch 168 / 168, loss: 0.027, 20.148 sec.\n",
      ">Epoch 46, batch 168 / 168, loss: 0.023, 20.118 sec.\n",
      ">Epoch 47, batch 168 / 168, loss: 0.034, 20.544 sec.\n",
      ">Epoch 48, batch 168 / 168, loss: 0.043, 19.891 sec.\n",
      ">Epoch 49, batch 168 / 168, loss: 0.033, 20.466 sec.\n",
      ">Epoch 50, batch 168 / 168, loss: 0.026, 20.628 sec.\n",
      ">Accuracy: 97.000\n",
      ">Epoch 51, batch 168 / 168, loss: 0.046, 20.009 sec.\n",
      ">Epoch 52, batch 168 / 168, loss: 0.072, 20.329 sec.\n",
      ">Epoch 53, batch 168 / 168, loss: 0.064, 20.339 sec.\n",
      ">Epoch 54, batch 168 / 168, loss: 0.043, 19.899 sec.\n",
      ">Epoch 55, batch 168 / 168, loss: 0.034, 20.359 sec.\n",
      ">Epoch 56, batch 168 / 168, loss: 0.079, 20.362 sec.\n",
      ">Epoch 57, batch 168 / 168, loss: 0.045, 19.959 sec.\n",
      ">Epoch 58, batch 168 / 168, loss: 0.025, 20.395 sec.\n",
      ">Epoch 59, batch 168 / 168, loss: 0.068, 20.360 sec.\n",
      ">Epoch 60, batch 168 / 168, loss: 0.038, 19.866 sec.\n",
      ">Accuracy: 100.000\n",
      ">Epoch 61, batch 168 / 168, loss: 0.027, 20.332 sec.\n",
      ">Epoch 62, batch 168 / 168, loss: 0.026, 20.087 sec.\n",
      ">Epoch 63, batch 168 / 168, loss: 0.020, 19.935 sec.\n",
      ">Epoch 64, batch 168 / 168, loss: 0.037, 20.176 sec.\n",
      ">Epoch 65, batch 168 / 168, loss: 0.016, 20.388 sec.\n",
      ">Epoch 66, batch 168 / 168, loss: 0.104, 19.907 sec.\n",
      ">Epoch 67, batch 168 / 168, loss: 0.047, 20.284 sec.\n",
      ">Epoch 68, batch 168 / 168, loss: 0.023, 20.125 sec.\n",
      ">Epoch 69, batch 168 / 168, loss: 0.022, 20.104 sec.\n",
      ">Epoch 70, batch 168 / 168, loss: 0.112, 20.103 sec.\n",
      ">Accuracy: 100.000\n",
      ">Epoch 71, batch 168 / 168, loss: 0.013, 20.353 sec.\n",
      ">Epoch 72, batch 168 / 168, loss: 0.041, 19.664 sec.\n",
      ">Epoch 73, batch 168 / 168, loss: 0.016, 20.406 sec.\n",
      ">Epoch 74, batch 168 / 168, loss: 0.022, 20.006 sec.\n",
      ">Epoch 75, batch 168 / 168, loss: 0.012, 19.925 sec.\n",
      ">Epoch 76, batch 168 / 168, loss: 0.029, 20.117 sec.\n",
      ">Epoch 77, batch 168 / 168, loss: 0.007, 20.324 sec.\n",
      ">Epoch 78, batch 168 / 168, loss: 0.026, 19.670 sec.\n",
      ">Epoch 79, batch 168 / 168, loss: 0.022, 20.513 sec.\n",
      ">Epoch 80, batch 168 / 168, loss: 0.006, 20.119 sec.\n",
      ">Accuracy: 100.000\n",
      ">Epoch 81, batch 168 / 168, loss: 0.010, 19.958 sec.\n",
      ">Epoch 82, batch 168 / 168, loss: 0.032, 20.466 sec.\n",
      ">Epoch 83, batch 168 / 168, loss: 0.006, 20.228 sec.\n",
      ">Epoch 84, batch 168 / 168, loss: 0.015, 19.847 sec.\n",
      ">Epoch 85, batch 168 / 168, loss: 0.007, 20.467 sec.\n",
      ">Epoch 86, batch 168 / 168, loss: 0.009, 20.193 sec.\n",
      ">Epoch 87, batch 168 / 168, loss: 0.035, 20.040 sec.\n",
      ">Epoch 88, batch 168 / 168, loss: 0.027, 20.400 sec.\n",
      ">Epoch 89, batch 168 / 168, loss: 0.041, 19.981 sec.\n",
      ">Epoch 90, batch 168 / 168, loss: 0.004, 19.724 sec.\n",
      ">Accuracy: 100.000\n",
      ">Epoch 91, batch 168 / 168, loss: 0.028, 20.631 sec.\n",
      ">Epoch 92, batch 168 / 168, loss: 0.013, 19.947 sec.\n",
      ">Epoch 93, batch 168 / 168, loss: 0.090, 20.023 sec.\n",
      ">Epoch 94, batch 168 / 168, loss: 0.041, 20.553 sec.\n",
      ">Epoch 95, batch 168 / 168, loss: 0.110, 19.900 sec.\n",
      ">Epoch 96, batch 168 / 168, loss: 0.029, 19.883 sec.\n",
      ">Epoch 97, batch 168 / 168, loss: 0.002, 20.422 sec.\n",
      ">Epoch 98, batch 168 / 168, loss: 0.066, 19.942 sec.\n",
      ">Epoch 99, batch 168 / 168, loss: 0.013, 20.037 sec.\n",
      ">Epoch 100, batch 168 / 168, loss: 0.020, 20.627 sec.\n",
      ">Accuracy: 100.000\n"
     ]
    }
   ],
   "source": [
    "train_model(model, train, n_epochs=100)"
   ]
  },
  {
   "cell_type": "code",
   "execution_count": 11,
   "metadata": {
    "execution": {
     "iopub.execute_input": "2020-10-02T16:17:56.418311Z",
     "iopub.status.busy": "2020-10-02T16:17:56.417043Z",
     "iopub.status.idle": "2020-10-02T16:17:57.597017Z",
     "shell.execute_reply": "2020-10-02T16:17:57.596365Z"
    },
    "papermill": {
     "duration": 1.240265,
     "end_time": "2020-10-02T16:17:57.597161",
     "exception": false,
     "start_time": "2020-10-02T16:17:56.356896",
     "status": "completed"
    },
    "tags": []
   },
   "outputs": [
    {
     "data": {
      "text/plain": [
       "array([2, 0, 9, ..., 3, 9, 2])"
      ]
     },
     "execution_count": 11,
     "metadata": {},
     "output_type": "execute_result"
    }
   ],
   "source": [
    "test_X, _ = data_preparation(test)\n",
    "predictions = model.predict(test_X)\n",
    "labels = predictions.argmax(axis=-1)\n",
    "labels"
   ]
  },
  {
   "cell_type": "code",
   "execution_count": 12,
   "metadata": {
    "execution": {
     "iopub.execute_input": "2020-10-02T16:17:57.713201Z",
     "iopub.status.busy": "2020-10-02T16:17:57.712456Z",
     "iopub.status.idle": "2020-10-02T16:17:58.040311Z",
     "shell.execute_reply": "2020-10-02T16:17:58.039344Z"
    },
    "papermill": {
     "duration": 0.389566,
     "end_time": "2020-10-02T16:17:58.040440",
     "exception": false,
     "start_time": "2020-10-02T16:17:57.650874",
     "status": "completed"
    },
    "tags": []
   },
   "outputs": [],
   "source": [
    "pd.DataFrame(data={\"ImageId\":range(1, len(labels) + 1), \"Label\":labels}).to_csv(\"submission.csv\", index=False)"
   ]
  }
 ],
 "metadata": {
  "kernelspec": {
   "display_name": "Python 3",
   "language": "python",
   "name": "python3"
  },
  "language_info": {
   "codemirror_mode": {
    "name": "ipython",
    "version": 3
   },
   "file_extension": ".py",
   "mimetype": "text/x-python",
   "name": "python",
   "nbconvert_exporter": "python",
   "pygments_lexer": "ipython3",
   "version": "3.7.6"
  },
  "papermill": {
   "duration": 2049.809173,
   "end_time": "2020-10-02T16:17:59.422499",
   "environment_variables": {},
   "exception": null,
   "input_path": "__notebook__.ipynb",
   "output_path": "__notebook__.ipynb",
   "parameters": {},
   "start_time": "2020-10-02T15:43:49.613326",
   "version": "2.1.0"
  }
 },
 "nbformat": 4,
 "nbformat_minor": 4
}
